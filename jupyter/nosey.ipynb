{
 "cells": [
  {
   "cell_type": "markdown",
   "metadata": {},
   "source": [
    "# Structures Nose Cone Calculations"
   ]
  },
  {
   "cell_type": "code",
   "execution_count": 2,
   "metadata": {
    "collapsed": true
   },
   "outputs": [],
   "source": [
    "import numpy as np\n",
    "import matplotlib.pyplot as plt"
   ]
  },
  {
   "cell_type": "markdown",
   "metadata": {},
   "source": [
    "__Define Constants:__"
   ]
  },
  {
   "cell_type": "code",
   "execution_count": 24,
   "metadata": {
    "collapsed": true
   },
   "outputs": [],
   "source": [
    "L = 3*12  # inches of Nosecone Length\n",
    "R= 4 #inches of Radius\n",
    "C=0 #Constant for Von Karmen\n",
    "x = np.linspace(0,L)"
   ]
  },
  {
   "cell_type": "markdown",
   "metadata": {},
   "source": [
    "Haack Series with C=0 to mimic Von Karmen Series\n",
    "\n",
    "\n",
    "$$ \\theta=\\arccos({1-\\frac{2x}{L}}) $$\n",
    "\n",
    "\n",
    "$$ y=\\frac{r}{\\sqrt{\\pi}}\\sqrt{\\theta-\\frac{\\sin({2\\theta})}{2}+C sin^3{\\theta}} $$\n",
    "\n",
    "Where\n",
    "L= Height of Nosecone and\n",
    "R=Radius of Rocket\n",
    "\n"
   ]
  },
  {
   "cell_type": "code",
   "execution_count": 25,
   "metadata": {
    "collapsed": false
   },
   "outputs": [
    {
     "data": {
      "image/png": "[encoded data removed]",
      "text/plain": [
       "<matplotlib.figure.Figure at 0x8760e48>"
      ]
     },
     "metadata": {},
     "output_type": "display_data"
    },
    {
     "name": "stdout",
     "output_type": "stream",
     "text": [
      "[  0.           0.73469388   1.46938776   2.20408163   2.93877551\n",
      "   3.67346939   4.40816327   5.14285714   5.87755102   6.6122449\n",
      "   7.34693878   8.08163265   8.81632653   9.55102041  10.28571429\n",
      "  11.02040816  11.75510204  12.48979592  13.2244898   13.95918367\n",
      "  14.69387755  15.42857143  16.16326531  16.89795918  17.63265306\n",
      "  18.36734694  19.10204082  19.83673469  20.57142857  21.30612245\n",
      "  22.04081633  22.7755102   23.51020408  24.24489796  24.97959184\n",
      "  25.71428571  26.44897959  27.18367347  27.91836735  28.65306122\n",
      "  29.3877551   30.12244898  30.85714286  31.59183673  32.32653061\n",
      "  33.06122449  33.79591837  34.53061224  35.26530612  36.        ]\n",
      "[ 0.          0.28054264  0.47034286  0.63548789  0.78598842  0.92615442\n",
      "  1.05835995  1.18409404  1.30437005  1.41991747  1.5312834   1.63889109\n",
      "  1.74307597  1.84410901  1.94221244  2.03757077  2.13033865  2.22064665\n",
      "  2.30860559  2.39430985  2.47783991  2.5592643   2.63864119  2.71601957\n",
      "  2.79144024  2.86493655  2.93653498  3.00625559  3.07411227  3.14011296\n",
      "  3.20425972  3.26654868  3.32696986  3.38550694  3.44213674  3.49682868\n",
      "  3.54954391  3.60023418  3.64884036  3.6952904   3.73949654  3.78135145\n",
      "  3.82072262  3.857444    3.89130287  3.92201762  3.94919677  3.97225095\n",
      "  3.99014985  4.        ]\n"
     ]
    }
   ],
   "source": [
    "al=np.arccos(1-2*x/L) #Alpha\n",
    "y=R/np.sqrt(np.pi)*np.sqrt(al-np.sin(2*al)/2+C*(np.sin(al))**3)\n",
    "\n",
    "plt.plot(x,y, 'b', x,-y, 'b')\n",
    "plt.xlabel('Distance along Nosecone [in]')\n",
    "plt.ylabel('Distance from Nosecone Centerline [in]')\n",
    "plt.title('Von Karmen Series Nose Cone')\n",
    "plt.grid()\n",
    "plt.axis('equal')\n",
    "plt.show()\n",
    "print(x)\n",
    "print(y)\n"
   ]
  },
  {
   "cell_type": "code",
   "execution_count": null,
   "metadata": {
    "collapsed": true
   },
   "outputs": [],
   "source": []
  }
 ],
 "metadata": {
  "kernelspec": {
   "display_name": "Python 3",
   "language": "python",
   "name": "python3"
  },
  "language_info": {
   "codemirror_mode": {
    "name": "ipython",
    "version": 3
   },
   "file_extension": ".py",
   "mimetype": "text/x-python",
   "name": "python",
   "nbconvert_exporter": "python",
   "pygments_lexer": "ipython3",
   "version": "3.6.0"
  }
 },
 "nbformat": 4,
 "nbformat_minor": 2
}
